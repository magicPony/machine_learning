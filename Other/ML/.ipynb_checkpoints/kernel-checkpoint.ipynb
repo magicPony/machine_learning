{
 "cells": [
  {
   "cell_type": "code",
   "execution_count": 1,
   "metadata": {
    "_cell_guid": "b1076dfc-b9ad-4769-8c92-a6c4dae69d19",
    "_uuid": "8f2839f25d086af736a60e9eeb907d3b93b6e0e5"
   },
   "outputs": [
    {
     "name": "stdout",
     "output_type": "stream",
     "text": [
      "DONE\n"
     ]
    }
   ],
   "source": [
    "import numpy as np # linear algebra\n",
    "import pandas as pd # data processing, CSV file I/O (e.g. pd.read_csv)\n",
    "\n",
    "data = pd.read_csv('/Users/tarasnovokhatskyi/Desktop/ML/input/train.csv');\n",
    "data.head()\n",
    "print(\"DONE\")"
   ]
  },
  {
   "cell_type": "code",
   "execution_count": 2,
   "metadata": {
    "_cell_guid": "79c7e3d0-c299-4dcb-8224-4455121ee9b0",
    "_uuid": "d629ff2d2480ee46fbb7e2d37f6b5fab8052498a"
   },
   "outputs": [
    {
     "name": "stdout",
     "output_type": "stream",
     "text": [
      "DONE\n"
     ]
    }
   ],
   "source": [
    "target_column = [\"Survived\"];\n",
    "train_columns = [\"Age\", \"Pclass\", \"Sex\", \"Fare\"];\n",
    "\n",
    "X = data[train_columns];\n",
    "y = data[target_column];\n",
    "print(\"DONE\")"
   ]
  },
  {
   "cell_type": "code",
   "execution_count": null,
   "metadata": {},
   "outputs": [],
   "source": []
  },
  {
   "cell_type": "code",
   "execution_count": 3,
   "metadata": {
    "_uuid": "909a32f6461b75051c5c17beac215c7a1d2963c8"
   },
   "outputs": [
    {
     "name": "stdout",
     "output_type": "stream",
     "text": [
      "Age\n",
      "177\n",
      "Pclass\n",
      "0\n",
      "Sex\n",
      "0\n",
      "Fare\n",
      "0\n",
      "DONE\n"
     ]
    }
   ],
   "source": [
    "for col_name in train_columns:\n",
    "    print(col_name);\n",
    "    print(X[col_name].isnull().sum());\n",
    "print(\"DONE\")"
   ]
  },
  {
   "cell_type": "code",
   "execution_count": 4,
   "metadata": {
    "_uuid": "93db54feee5ca91f2066f28f95792baa9683682f"
   },
   "outputs": [
    {
     "name": "stdout",
     "output_type": "stream",
     "text": [
      "DONE\n"
     ]
    },
    {
     "name": "stderr",
     "output_type": "stream",
     "text": [
      "/anaconda3/lib/python3.7/site-packages/pandas/core/indexing.py:543: SettingWithCopyWarning: \n",
      "A value is trying to be set on a copy of a slice from a DataFrame.\n",
      "Try using .loc[row_indexer,col_indexer] = value instead\n",
      "\n",
      "See the caveats in the documentation: http://pandas.pydata.org/pandas-docs/stable/indexing.html#indexing-view-versus-copy\n",
      "  self.obj[item] = s\n"
     ]
    }
   ],
   "source": [
    "mean = X[\"Age\"].mean();\n",
    "X.loc[:, \"Age\"] = X.loc[:, \"Age\"].fillna(mean);\n",
    "print(\"DONE\")"
   ]
  },
  {
   "cell_type": "code",
   "execution_count": 5,
   "metadata": {
    "_uuid": "a3a72b9c96c883255642e4ec6f2ef5bf9b5a103b"
   },
   "outputs": [
    {
     "name": "stdout",
     "output_type": "stream",
     "text": [
      "DONE\n"
     ]
    },
    {
     "name": "stderr",
     "output_type": "stream",
     "text": [
      "/anaconda3/lib/python3.7/site-packages/pandas/core/indexing.py:543: SettingWithCopyWarning: \n",
      "A value is trying to be set on a copy of a slice from a DataFrame.\n",
      "Try using .loc[row_indexer,col_indexer] = value instead\n",
      "\n",
      "See the caveats in the documentation: http://pandas.pydata.org/pandas-docs/stable/indexing.html#indexing-view-versus-copy\n",
      "  self.obj[item] = s\n"
     ]
    }
   ],
   "source": [
    "sex_map = {\"male\" : 0, \"female\" : 1}\n",
    "X.loc[:, \"Sex\"] = X.loc[:, \"Sex\"].apply(lambda x:sex_map[x]);\n",
    "print(\"DONE\")"
   ]
  },
  {
   "cell_type": "code",
   "execution_count": 6,
   "metadata": {
    "_uuid": "dfda7fec54c951cdba4a4bfbc98a953af2bee0a5"
   },
   "outputs": [
    {
     "name": "stdout",
     "output_type": "stream",
     "text": [
      "DONE\n"
     ]
    },
    {
     "name": "stderr",
     "output_type": "stream",
     "text": [
      "/anaconda3/lib/python3.7/site-packages/sklearn/utils/validation.py:578: DataConversionWarning: A column-vector y was passed when a 1d array was expected. Please change the shape of y to (n_samples, ), for example using ravel().\n",
      "  y = column_or_1d(y, warn=True)\n"
     ]
    }
   ],
   "source": [
    "from sklearn.model_selection import train_test_split\n",
    "from sklearn import svm\n",
    "\n",
    "X_train, X_test, y_train, y_test = train_test_split(X, y, test_size = 0.33, random_state = 42)\n",
    "clf = svm.LinearSVC()\n",
    "X_train.head()\n",
    "clf.fit(X_train, y_train)\n",
    "print(\"DONE\")"
   ]
  },
  {
   "cell_type": "code",
   "execution_count": null,
   "metadata": {},
   "outputs": [],
   "source": []
  },
  {
   "cell_type": "code",
   "execution_count": 65,
   "metadata": {
    "_uuid": "ee631998d624f3514c615185f2962e899bdaf94f"
   },
   "outputs": [],
   "source": [
    "data = pd.read_csv('/Users/tarasnovokhatskyi/Desktop/ML/input/test.csv');\n",
    "X = data[train_columns];\n",
    "mean = X[\"Age\"].mean();\n",
    "X_copy = X.copy();\n",
    "X_copy[\"Age\"] = X[\"Age\"].fillna(mean);\n",
    "X = X_copy;\n",
    "X.loc[:, \"Sex\"] = X.loc[:, \"Sex\"].apply(lambda x:sex_map[x]);\n",
    "\n",
    "# \"Fare\" !!!!\n",
    "mean = X[\"Fare\"]\n",
    "X_copy = X.copy()\n",
    "X_copy[\"Fare\"] = X_copy[\"Fare\"].fillna(mean);\n",
    "X = X_copy;\n",
    "y = clf.predict(X);"
   ]
  },
  {
   "cell_type": "code",
   "execution_count": null,
   "metadata": {},
   "outputs": [],
   "source": [
    "np.savetxt(\"Survived.csv\", y, delimiter=\",\")"
   ]
  }
 ],
 "metadata": {
  "kernelspec": {
   "display_name": "Python 3",
   "language": "python",
   "name": "python3"
  },
  "language_info": {
   "codemirror_mode": {
    "name": "ipython",
    "version": 3
   },
   "file_extension": ".py",
   "mimetype": "text/x-python",
   "name": "python",
   "nbconvert_exporter": "python",
   "pygments_lexer": "ipython3",
   "version": "3.7.0"
  }
 },
 "nbformat": 4,
 "nbformat_minor": 1
}
